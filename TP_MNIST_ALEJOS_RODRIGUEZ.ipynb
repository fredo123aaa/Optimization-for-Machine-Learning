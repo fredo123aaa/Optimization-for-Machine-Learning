{
 "cells": [
  {
   "cell_type": "markdown",
   "id": "IpCyyyYU21c_",
   "metadata": {
    "id": "IpCyyyYU21c_"
   },
   "source": [
    "**Members:**\n",
    "- Fredo Antonino ALEJOS ARRIETA\n",
    "- Miguel Angel RODRIGUEZ FUENTES"
   ]
  },
  {
   "cell_type": "code",
   "execution_count": 1,
   "id": "149938de",
   "metadata": {
    "id": "149938de"
   },
   "outputs": [],
   "source": [
    "import numpy as np\n",
    "import tensorflow as tf\n",
    "from tensorflow import keras\n",
    "from tensorflow.keras import layers\n",
    "import matplotlib.pyplot as plt"
   ]
  },
  {
   "cell_type": "markdown",
   "id": "657ee878-16b7-46ab-811d-48aebc085cf1",
   "metadata": {
    "id": "657ee878-16b7-46ab-811d-48aebc085cf1"
   },
   "source": [
    "# 1. Loading the data"
   ]
  },
  {
   "cell_type": "code",
   "execution_count": 2,
   "id": "9afc7a6a-14b1-4bf8-8cbf-f15d61a2c1ac",
   "metadata": {
    "colab": {
     "base_uri": "https://localhost:8080/"
    },
    "id": "9afc7a6a-14b1-4bf8-8cbf-f15d61a2c1ac",
    "outputId": "52b285ac-551f-4b79-c31e-ef8031be4c7d"
   },
   "outputs": [
    {
     "name": "stdout",
     "output_type": "stream",
     "text": [
      "Downloading data from https://storage.googleapis.com/tensorflow/tf-keras-datasets/mnist.npz\n",
      "\u001b[1m11490434/11490434\u001b[0m \u001b[32m━━━━━━━━━━━━━━━━━━━━\u001b[0m\u001b[37m\u001b[0m \u001b[1m0s\u001b[0m 0us/step\n"
     ]
    }
   ],
   "source": [
    "train_data, test_data = tf.keras.datasets.mnist.load_data(path=\"mnist.npz\")\n",
    "x_train = train_data[0].reshape(-1,784).astype(float) / 255\n",
    "y_train = train_data[1]"
   ]
  },
  {
   "cell_type": "code",
   "execution_count": 3,
   "id": "76f055f2-a9f7-4905-bab0-d2d53287b65e",
   "metadata": {
    "colab": {
     "base_uri": "https://localhost:8080/",
     "height": 465
    },
    "id": "76f055f2-a9f7-4905-bab0-d2d53287b65e",
    "outputId": "9351a3da-c0ae-43ff-c407-03cff284c428"
   },
   "outputs": [
    {
     "name": "stdout",
     "output_type": "stream",
     "text": [
      "label is 4\n"
     ]
    },
    {
     "data": {
      "text/plain": [
       "<matplotlib.image.AxesImage at 0x7b8074655690>"
      ]
     },
     "execution_count": 3,
     "metadata": {},
     "output_type": "execute_result"
    },
    {
     "data": {
      "image/png": "[encoded data removed]",
      "text/plain": [
       "<Figure size 640x480 with 1 Axes>"
      ]
     },
     "metadata": {},
     "output_type": "display_data"
    }
   ],
   "source": [
    "# exploring the data\n",
    "i = np.random.randint(y_train.size)\n",
    "\n",
    "print(\"label is\", y_train[i])\n",
    "plt.imshow(train_data[0][i], cmap='gray')"
   ]
  },
  {
   "cell_type": "markdown",
   "id": "8feee3fb-8b54-4cd2-8ee1-a003d1292f8a",
   "metadata": {
    "id": "8feee3fb-8b54-4cd2-8ee1-a003d1292f8a"
   },
   "source": [
    "# 2. Building the model\n",
    "\n",
    "We use Keras to build a fully-connected neural network.\n",
    "\n",
    "For more details, see https://keras.io/guides/training_with_built_in_methods/"
   ]
  },
  {
   "cell_type": "code",
   "execution_count": 4,
   "id": "4b521b78",
   "metadata": {
    "colab": {
     "base_uri": "https://localhost:8080/",
     "height": 272
    },
    "id": "4b521b78",
    "outputId": "f1c7477a-9f47-49fb-f65f-0a32a4c9ba5e"
   },
   "outputs": [
    {
     "data": {
      "text/html": [
       "<pre style=\"white-space:pre;overflow-x:auto;line-height:normal;font-family:Menlo,'DejaVu Sans Mono',consolas,'Courier New',monospace\"><span style=\"font-weight: bold\">Model: \"mnist_model\"</span>\n",
       "</pre>\n"
      ],
      "text/plain": [
       "\u001b[1mModel: \"mnist_model\"\u001b[0m\n"
      ]
     },
     "metadata": {},
     "output_type": "display_data"
    },
    {
     "data": {
      "text/html": [
       "<pre style=\"white-space:pre;overflow-x:auto;line-height:normal;font-family:Menlo,'DejaVu Sans Mono',consolas,'Courier New',monospace\">┏━━━━━━━━━━━━━━━━━━━━━━━━━━━━━━━━━━━━━━┳━━━━━━━━━━━━━━━━━━━━━━━━━━━━━┳━━━━━━━━━━━━━━━━━┓\n",
       "┃<span style=\"font-weight: bold\"> Layer (type)                         </span>┃<span style=\"font-weight: bold\"> Output Shape                </span>┃<span style=\"font-weight: bold\">         Param # </span>┃\n",
       "┡━━━━━━━━━━━━━━━━━━━━━━━━━━━━━━━━━━━━━━╇━━━━━━━━━━━━━━━━━━━━━━━━━━━━━╇━━━━━━━━━━━━━━━━━┩\n",
       "│ digits (<span style=\"color: #0087ff; text-decoration-color: #0087ff\">InputLayer</span>)                  │ (<span style=\"color: #00d7ff; text-decoration-color: #00d7ff\">None</span>, <span style=\"color: #00af00; text-decoration-color: #00af00\">784</span>)                 │               <span style=\"color: #00af00; text-decoration-color: #00af00\">0</span> │\n",
       "├──────────────────────────────────────┼─────────────────────────────┼─────────────────┤\n",
       "│ dense_1 (<span style=\"color: #0087ff; text-decoration-color: #0087ff\">Dense</span>)                      │ (<span style=\"color: #00d7ff; text-decoration-color: #00d7ff\">None</span>, <span style=\"color: #00af00; text-decoration-color: #00af00\">32</span>)                  │          <span style=\"color: #00af00; text-decoration-color: #00af00\">25,120</span> │\n",
       "├──────────────────────────────────────┼─────────────────────────────┼─────────────────┤\n",
       "│ dense_2 (<span style=\"color: #0087ff; text-decoration-color: #0087ff\">Dense</span>)                      │ (<span style=\"color: #00d7ff; text-decoration-color: #00d7ff\">None</span>, <span style=\"color: #00af00; text-decoration-color: #00af00\">32</span>)                  │           <span style=\"color: #00af00; text-decoration-color: #00af00\">1,056</span> │\n",
       "├──────────────────────────────────────┼─────────────────────────────┼─────────────────┤\n",
       "│ predictions (<span style=\"color: #0087ff; text-decoration-color: #0087ff\">Dense</span>)                  │ (<span style=\"color: #00d7ff; text-decoration-color: #00d7ff\">None</span>, <span style=\"color: #00af00; text-decoration-color: #00af00\">10</span>)                  │             <span style=\"color: #00af00; text-decoration-color: #00af00\">330</span> │\n",
       "└──────────────────────────────────────┴─────────────────────────────┴─────────────────┘\n",
       "</pre>\n"
      ],
      "text/plain": [
       "┏━━━━━━━━━━━━━━━━━━━━━━━━━━━━━━━━━━━━━━┳━━━━━━━━━━━━━━━━━━━━━━━━━━━━━┳━━━━━━━━━━━━━━━━━┓\n",
       "┃\u001b[1m \u001b[0m\u001b[1mLayer (type)                        \u001b[0m\u001b[1m \u001b[0m┃\u001b[1m \u001b[0m\u001b[1mOutput Shape               \u001b[0m\u001b[1m \u001b[0m┃\u001b[1m \u001b[0m\u001b[1m        Param #\u001b[0m\u001b[1m \u001b[0m┃\n",
       "┡━━━━━━━━━━━━━━━━━━━━━━━━━━━━━━━━━━━━━━╇━━━━━━━━━━━━━━━━━━━━━━━━━━━━━╇━━━━━━━━━━━━━━━━━┩\n",
       "│ digits (\u001b[38;5;33mInputLayer\u001b[0m)                  │ (\u001b[38;5;45mNone\u001b[0m, \u001b[38;5;34m784\u001b[0m)                 │               \u001b[38;5;34m0\u001b[0m │\n",
       "├──────────────────────────────────────┼─────────────────────────────┼─────────────────┤\n",
       "│ dense_1 (\u001b[38;5;33mDense\u001b[0m)                      │ (\u001b[38;5;45mNone\u001b[0m, \u001b[38;5;34m32\u001b[0m)                  │          \u001b[38;5;34m25,120\u001b[0m │\n",
       "├──────────────────────────────────────┼─────────────────────────────┼─────────────────┤\n",
       "│ dense_2 (\u001b[38;5;33mDense\u001b[0m)                      │ (\u001b[38;5;45mNone\u001b[0m, \u001b[38;5;34m32\u001b[0m)                  │           \u001b[38;5;34m1,056\u001b[0m │\n",
       "├──────────────────────────────────────┼─────────────────────────────┼─────────────────┤\n",
       "│ predictions (\u001b[38;5;33mDense\u001b[0m)                  │ (\u001b[38;5;45mNone\u001b[0m, \u001b[38;5;34m10\u001b[0m)                  │             \u001b[38;5;34m330\u001b[0m │\n",
       "└──────────────────────────────────────┴─────────────────────────────┴─────────────────┘\n"
      ]
     },
     "metadata": {},
     "output_type": "display_data"
    },
    {
     "data": {
      "text/html": [
       "<pre style=\"white-space:pre;overflow-x:auto;line-height:normal;font-family:Menlo,'DejaVu Sans Mono',consolas,'Courier New',monospace\"><span style=\"font-weight: bold\"> Total params: </span><span style=\"color: #00af00; text-decoration-color: #00af00\">26,506</span> (103.54 KB)\n",
       "</pre>\n"
      ],
      "text/plain": [
       "\u001b[1m Total params: \u001b[0m\u001b[38;5;34m26,506\u001b[0m (103.54 KB)\n"
      ]
     },
     "metadata": {},
     "output_type": "display_data"
    },
    {
     "data": {
      "text/html": [
       "<pre style=\"white-space:pre;overflow-x:auto;line-height:normal;font-family:Menlo,'DejaVu Sans Mono',consolas,'Courier New',monospace\"><span style=\"font-weight: bold\"> Trainable params: </span><span style=\"color: #00af00; text-decoration-color: #00af00\">26,506</span> (103.54 KB)\n",
       "</pre>\n"
      ],
      "text/plain": [
       "\u001b[1m Trainable params: \u001b[0m\u001b[38;5;34m26,506\u001b[0m (103.54 KB)\n"
      ]
     },
     "metadata": {},
     "output_type": "display_data"
    },
    {
     "data": {
      "text/html": [
       "<pre style=\"white-space:pre;overflow-x:auto;line-height:normal;font-family:Menlo,'DejaVu Sans Mono',consolas,'Courier New',monospace\"><span style=\"font-weight: bold\"> Non-trainable params: </span><span style=\"color: #00af00; text-decoration-color: #00af00\">0</span> (0.00 B)\n",
       "</pre>\n"
      ],
      "text/plain": [
       "\u001b[1m Non-trainable params: \u001b[0m\u001b[38;5;34m0\u001b[0m (0.00 B)\n"
      ]
     },
     "metadata": {},
     "output_type": "display_data"
    }
   ],
   "source": [
    "# source : https://keras.io/guides/training_with_built_in_methods/\n",
    "\n",
    "def build_model():\n",
    "    inputs = keras.Input(shape=(784,), name=\"digits\")\n",
    "    x = layers.Dense(32, activation=\"relu\", name=\"dense_1\")(inputs)\n",
    "    x = layers.Dense(32, activation=\"relu\", name=\"dense_2\")(x)\n",
    "    outputs = layers.Dense(10, activation=\"softmax\", name=\"predictions\")(x)\n",
    "\n",
    "    model = keras.Model(inputs=inputs, outputs=outputs, name=\"mnist_model\")\n",
    "    return model\n",
    "\n",
    "model = build_model()\n",
    "old_weights = model.get_weights()\n",
    "\n",
    "loss = keras.losses.sparse_categorical_crossentropy\n",
    "\n",
    "model.summary()"
   ]
  },
  {
   "cell_type": "code",
   "execution_count": 5,
   "id": "b18b6bdb",
   "metadata": {
    "colab": {
     "base_uri": "https://localhost:8080/"
    },
    "id": "b18b6bdb",
    "outputId": "8728b4d8-8da5-4653-a6d3-40b2dbfe1464"
   },
   "outputs": [
    {
     "name": "stdout",
     "output_type": "stream",
     "text": [
      "[7 7 7 7 7 7 7 7 7 7 7 7 6 7 7 7 7 7 7 7 7 7 7 7 6 7 7 7 7 6]\n",
      "tf.Tensor(\n",
      "[0.11123696 0.07231887 0.11308715 0.09475634 0.10512404 0.09256797\n",
      " 0.1013666  0.12706095 0.09130158 0.09117949], shape=(10,), dtype=float32)\n"
     ]
    }
   ],
   "source": [
    "# untrained model\n",
    "predicted_probas = model(x_train)\n",
    "y_pred = np.argmax(predicted_probas, 1) # the prediction is the class with highest probability\n",
    "print(y_pred[0:30])\n",
    "print(predicted_probas[1])"
   ]
  },
  {
   "cell_type": "code",
   "execution_count": 6,
   "id": "35d74f67",
   "metadata": {
    "colab": {
     "base_uri": "https://localhost:8080/"
    },
    "id": "35d74f67",
    "outputId": "4ebf541a-3e38-40b6-e4ad-6f5293ce9f03"
   },
   "outputs": [
    {
     "data": {
      "text/plain": [
       "array([5, 0, 4, 1, 9, 2, 1, 3, 1, 4, 3, 5, 3, 6, 1, 7, 2, 8, 6, 9, 4, 0,\n",
       "       9, 1, 1, 2, 4, 3, 2, 7], dtype=uint8)"
      ]
     },
     "execution_count": 6,
     "metadata": {},
     "output_type": "execute_result"
    }
   ],
   "source": [
    "# what we would like to get\n",
    "y_train[0:30]"
   ]
  },
  {
   "cell_type": "markdown",
   "id": "HkrIUShO1hl0",
   "metadata": {
    "id": "HkrIUShO1hl0"
   },
   "source": [
    "## Question 4.1\n",
    "How many optimization variables are we going to train using this model?\n",
    "\n",
    "- *Input Layer:* Takes an input of shape (784) (28x28 flattened image).\n",
    "- *First Dense Layer (dense_1):*\n",
    "  - Number of neurons: (32)\n",
    "  - Each neuron has:\n",
    "    - (784) weights (one per input feature),\n",
    "    - (1) bias term.\n",
    "\n",
    "  Total parameters in this layer $(784 + 1) * 32 = 25,120$\n",
    "\n",
    "- *Second Dense Layer (dense_2):*\n",
    "  - Number of neurons: (32)\n",
    "  - Each neuron has:\n",
    "    - (32) weights (one per input from the previous layer),\n",
    "    - (1) bias term.\n",
    "  \n",
    "  Total parameters in this layer $(32 + 1) * 32 = 1,056$\n",
    "\n",
    "- *Output Layer (predictions):*\n",
    "  - Number of neurons: (10) (representing the 10 digit classes).\n",
    "  - Each neuron has:\n",
    "    - (32) weights (one per input from the previous layer),\n",
    "    - (1) bias term.\n",
    "\n",
    "Total parameters in this layer $(32 + 1) * 10 = 330$\n",
    "\n",
    "We sum the trainable parameters from all layers:\n",
    "\n",
    "*Total parameters* $= 25,120 + 1,056 + 330 = 26,506$\n",
    "\n",
    "The total number of optimization variables (trainable parameters) in the model is: $26,506$"
   ]
  },
  {
   "cell_type": "markdown",
   "id": "a2c1255b-36d0-4d05-a5a0-fa9408742b56",
   "metadata": {
    "id": "a2c1255b-36d0-4d05-a5a0-fa9408742b56"
   },
   "source": [
    "# 3. Computing gradients\n",
    "\n",
    "We are now going to implement the stochastic gradient method using the Keras functionalities.\n",
    "\n",
    "First, we need to understand how to compute gradients using auto-differentation (also called **backpropagation**)."
   ]
  },
  {
   "cell_type": "code",
   "execution_count": 7,
   "id": "e7cbc050-6044-4149-9354-0d3870837d82",
   "metadata": {
    "colab": {
     "base_uri": "https://localhost:8080/"
    },
    "id": "e7cbc050-6044-4149-9354-0d3870837d82",
    "outputId": "f7ed1a67-5495-4905-af24-25a53d18d434"
   },
   "outputs": [
    {
     "name": "stdout",
     "output_type": "stream",
     "text": [
      "tf.Tensor(\n",
      "[2.1710963 2.1960926 2.6127274 2.5140884 2.4728122 2.507155  2.6701272\n",
      " 2.3307247], shape=(8,), dtype=float32)\n",
      "(784, 32)\n",
      "(32,)\n",
      "(32, 32)\n",
      "(32,)\n",
      "(32, 10)\n",
      "(10,)\n"
     ]
    }
   ],
   "source": [
    "# Source: https://keras.io/guides/writing_a_custom_training_loop_in_tensorflow/\n",
    "\n",
    "# Example of gradient computation using automatic differentiation\n",
    "\n",
    "# selecting a batch\n",
    "x_train_batch = x_train[:8]\n",
    "y_train_batch = y_train[:8]\n",
    "\n",
    "# Open a GradientTape to record the operations run\n",
    "# during the forward pass, which enables auto-differentiation.\n",
    "with tf.GradientTape() as tape:\n",
    "        # Run the forward pass of the layer.\n",
    "        # The operations that the layer applies\n",
    "        # to its inputs are going to be recorded\n",
    "        # on the GradientTape.\n",
    "\n",
    "        logits = model(x_train_batch)  # Logits for this minibatch (the logits are the name we give to the Neural Network output)\n",
    "\n",
    "        # Compute the loss value for this minibatch.\n",
    "        loss_value = loss(y_train_batch, logits)\n",
    "        print(loss_value)\n",
    "\n",
    "# Use the gradient tape to automatically retrieve\n",
    "# the gradients of the trainable variables with respect to the loss.\n",
    "grad = tape.gradient(loss_value, model.trainable_weights)\n",
    "for g in grad: print(g.shape)"
   ]
  },
  {
   "cell_type": "markdown",
   "id": "f2f189a1-5cec-4723-93fc-8693ec8d6a5c",
   "metadata": {
    "id": "f2f189a1-5cec-4723-93fc-8693ec8d6a5c"
   },
   "source": [
    "We also define two important helper functions."
   ]
  },
  {
   "cell_type": "code",
   "execution_count": 8,
   "id": "dab2abd2-91e5-4b9e-a863-e1e3ea3dcd64",
   "metadata": {
    "id": "dab2abd2-91e5-4b9e-a863-e1e3ea3dcd64"
   },
   "outputs": [],
   "source": [
    "## update the weights by adding real_factor * update\n",
    "def update_weights(model, update, real_factor = 1.):\n",
    "    new_weights = model.trainable_weights.copy()\n",
    "\n",
    "    # iterate over all layers\n",
    "    for i in range(len(new_weights)):\n",
    "        new_weights[i] = new_weights[i] - real_factor * update[i]\n",
    "\n",
    "    model.set_weights(new_weights)\n",
    "\n",
    "\n",
    "# Evaluate model\n",
    "def mean_loss(model, X, Y):\n",
    "    logits = model(X)\n",
    "    return np.mean(loss(Y, logits))"
   ]
  },
  {
   "cell_type": "code",
   "execution_count": 9,
   "id": "9c11dcf5-bcd8-403b-ae60-41c755b5c5ec",
   "metadata": {
    "colab": {
     "base_uri": "https://localhost:8080/"
    },
    "id": "9c11dcf5-bcd8-403b-ae60-41c755b5c5ec",
    "outputId": "1debf2b4-0c25-4e22-96f5-519e9c063e0b"
   },
   "outputs": [
    {
     "data": {
      "text/plain": [
       "2.354264"
      ]
     },
     "execution_count": 9,
     "metadata": {},
     "output_type": "execute_result"
    }
   ],
   "source": [
    "# evaluating the train loss on the whole dataset\n",
    "# this is a costly operation, use sparsely\n",
    "mean_loss(model, x_train, y_train)"
   ]
  },
  {
   "cell_type": "markdown",
   "id": "ae0785ce-c5e2-4103-b4a8-1b10df2abf4d",
   "metadata": {
    "id": "ae0785ce-c5e2-4103-b4a8-1b10df2abf4d"
   },
   "source": [
    "# 4. Training the model"
   ]
  },
  {
   "cell_type": "markdown",
   "id": "mcaL4l_H1qnS",
   "metadata": {
    "id": "mcaL4l_H1qnS"
   },
   "source": [
    "##Question 5.1\n",
    "Using the helper code, implement stochastic gradient descent"
   ]
  },
  {
   "cell_type": "code",
   "execution_count": 10,
   "id": "246c8ebb-a57e-4548-a69c-338055cf04a4",
   "metadata": {
    "id": "246c8ebb-a57e-4548-a69c-338055cf04a4",
    "scrolled": true
   },
   "outputs": [],
   "source": [
    "# Stochastic gradient algorithm\n",
    "\n",
    "# TO IMPLEMENT\n",
    "def SGD(model, x_train, y_train, learning_rate, epochs=1, batch_size=1, alpha = 0.5):\n",
    "    loss_values = [mean_loss(model, x_train, y_train)]\n",
    "    num_samples = len(x_train)\n",
    "\n",
    "    for epoch in range(epochs):\n",
    "        print(f\"Epoch {epoch + 1}/{epochs}\")\n",
    "\n",
    "        indices = np.arange(num_samples)\n",
    "        np.random.shuffle(indices)\n",
    "        x_train_func = x_train[indices]\n",
    "        y_train_func = y_train[indices]\n",
    "\n",
    "        # Training the batches\n",
    "        for i in range(0, num_samples, batch_size):\n",
    "            # Mix the data to avoid take data sets with some possible bias\n",
    "            x_batch = x_train_func[i:i + batch_size]\n",
    "            y_batch = y_train_func[i:i + batch_size]\n",
    "\n",
    "            # Compute the new steo size\n",
    "            gamma_k = learning_rate / (epoch*num_samples + i/batch_size + 1)**alpha\n",
    "\n",
    "            # Compute the gradients and lost function\n",
    "            with tf.GradientTape() as tape:\n",
    "                logits = model(x_batch)\n",
    "                loss_value = loss(y_batch, logits)\n",
    "\n",
    "            # Compute the gradients\n",
    "            gradients = tape.gradient(loss_value, model.trainable_weights)\n",
    "\n",
    "            # Compute the new weights\n",
    "            update_weights(model, gradients, gamma_k/batch_size)\n",
    "\n",
    "            if (epoch*num_samples + i/batch_size + 1) % 100 == 0:\n",
    "                loss_values.append(mean_loss(model, x_train, y_train))\n",
    "        print(f\"Loss = {mean_loss(model, x_train, y_train)}\")\n",
    "\n",
    "    return loss_values"
   ]
  },
  {
   "cell_type": "code",
   "execution_count": 11,
   "id": "20010d71",
   "metadata": {
    "id": "20010d71"
   },
   "outputs": [],
   "source": [
    "def evaluate_accuracy(model, x_test, y_test):\n",
    "    # Make predictions\n",
    "    logits = model(x_test)\n",
    "    y_pred = tf.argmax(logits, axis=1).numpy()  # Take the class with highest probability\n",
    "\n",
    "    # Compute accuracy\n",
    "    accuracy = np.mean(y_pred == y_test)\n",
    "    return accuracy"
   ]
  },
  {
   "cell_type": "code",
   "execution_count": 12,
   "id": "f63f034c",
   "metadata": {
    "id": "f63f034c"
   },
   "outputs": [],
   "source": [
    "def visualize_predictions(model, x_test, y_test, num_examples=10):\n",
    "    # Select random independent data\n",
    "    indices = np.random.choice(len(x_test), num_examples, replace=False)\n",
    "    x_sample = x_test[indices]\n",
    "    y_true = y_test[indices]\n",
    "\n",
    "    # Make predictions\n",
    "    logits = model(x_sample)\n",
    "    y_pred = tf.argmax(logits, axis=1).numpy()\n",
    "\n",
    "    # Visualize predictions\n",
    "    plt.figure(figsize=(10, 5))\n",
    "    for i in range(num_examples):\n",
    "        plt.subplot(2, 5, i + 1)\n",
    "        plt.imshow(x_sample[i].reshape(28, 28), cmap=\"gray\")\n",
    "        plt.title(f\"True: {y_true[i]}\\nPred: {y_pred[i]}\")\n",
    "        plt.axis(\"off\")\n",
    "    plt.tight_layout()\n",
    "    plt.show()"
   ]
  },
  {
   "cell_type": "markdown",
   "id": "LQaORL-p1xs4",
   "metadata": {
    "id": "LQaORL-p1xs4"
   },
   "source": [
    "##Question 5.2\n",
    " Run it for one pass over the data (also called one epoch) and with a step size that satisfies the conditions required by theory. Plot the objective value as a function of the iterations. Compare different step size choices. What do you observe? *Hint: Do not compute the objective value at each iteration, only from time to time (e.g., every 1000 iterations). This is sufficient for plotting purposes and will save considerable computing time.*"
   ]
  },
  {
   "cell_type": "code",
   "execution_count": 13,
   "id": "79465229-cdc5-47d2-9a01-ad10f01132b1",
   "metadata": {
    "colab": {
     "base_uri": "https://localhost:8080/"
    },
    "id": "79465229-cdc5-47d2-9a01-ad10f01132b1",
    "outputId": "56258d5c-d398-4418-d3f6-757b27f6038d"
   },
   "outputs": [
    {
     "name": "stdout",
     "output_type": "stream",
     "text": [
      "Epoch 1/1\n",
      "Loss = 2.3018527030944824\n",
      "Epoch 1/1\n",
      "Loss = 0.27858927845954895\n",
      "Epoch 1/1\n",
      "Loss = 0.7589402794837952\n",
      "Epoch 1/1\n",
      "Loss = 2.2198235988616943\n"
     ]
    }
   ],
   "source": [
    "models = []\n",
    "loss_values = []\n",
    "num_models = 4\n",
    "\n",
    "for i in range(num_models):\n",
    "    model = build_model()\n",
    "    model.set_weights(old_weights)\n",
    "    models.append(model)\n",
    "\n",
    "epochs = 1\n",
    "batch_size = 1\n",
    "\n",
    "learning_rate = 1\n",
    "loss_values.append(SGD(models[0], x_train, y_train, learning_rate, epochs, batch_size))\n",
    "\n",
    "learning_rate = 0.1\n",
    "loss_values.append(SGD(models[1], x_train, y_train, learning_rate, epochs, batch_size))\n",
    "\n",
    "learning_rate = 0.01\n",
    "loss_values.append(SGD(models[2], x_train, y_train, learning_rate, epochs, batch_size))\n",
    "\n",
    "learning_rate = 0.001\n",
    "loss_values.append(SGD(models[3], x_train, y_train, learning_rate, epochs, batch_size))"
   ]
  },
  {
   "cell_type": "code",
   "execution_count": 14,
   "id": "24d39aac",
   "metadata": {
    "colab": {
     "base_uri": "https://localhost:8080/"
    },
    "id": "24d39aac",
    "outputId": "7b311719-bf4d-4943-c980-50c18d5bcfc8"
   },
   "outputs": [
    {
     "name": "stdout",
     "output_type": "stream",
     "text": [
      "Accuracy in the model 0 under test data: 11.35%\n",
      "Accuracy in the model 1 under test data: 91.94%\n",
      "Accuracy in the model 2 under test data: 82.63%\n",
      "Accuracy in the model 3 under test data: 18.59%\n"
     ]
    }
   ],
   "source": [
    "x_test = test_data[0].reshape(-1, 784).astype(float) / 255\n",
    "y_test = test_data[1]\n",
    "\n",
    "for i in range(len(models)):\n",
    "    accuracy = evaluate_accuracy(models[i], x_test, y_test)\n",
    "    print(f\"Accuracy in the model {i} under test data: {accuracy * 100:.2f}%\")"
   ]
  },
  {
   "cell_type": "code",
   "execution_count": 15,
   "id": "891a9a80",
   "metadata": {
    "colab": {
     "base_uri": "https://localhost:8080/",
     "height": 472
    },
    "id": "891a9a80",
    "outputId": "6efd5711-d507-475c-c1f0-2d48f0c78ad7"
   },
   "outputs": [
    {
     "data": {
      "image/png": "[encoded data removed]",
      "text/plain": [
       "<Figure size 640x480 with 1 Axes>"
      ]
     },
     "metadata": {},
     "output_type": "display_data"
    }
   ],
   "source": [
    "plt.figure()\n",
    "for i in range(len(loss_values)) :\n",
    "    plt.plot(loss_values[i], label = \"Loss value {}\".format(i), linewidth=1)\n",
    "\n",
    "plt.title(\"Loss function\")\n",
    "plt.xlabel(\"Iteration\")\n",
    "plt.ylabel(\"Loss value\")\n",
    "plt.grid(True)\n",
    "plt.legend()\n",
    "plt.show()"
   ]
  },
  {
   "cell_type": "markdown",
   "id": "qe3-L0GE133c",
   "metadata": {
    "id": "qe3-L0GE133c"
   },
   "source": [
    "**Observations from Results:**\n",
    "\n",
    "1. Loss Function Behavior\n",
    "- Model 0 (Learning Rate = 1):\n",
    "  - The loss starts high and shows no clear downward trend.\n",
    "  - This indicates instability caused by a learning rate that is too large, leading to divergence.\n",
    "\n",
    "- Model 1 (Learning Rate = 0.1):\n",
    "  - The loss decreases rapidly and stabilizes.\n",
    "  - This behavior suggests that $ \\eta = 0.1 $ is an effective learning rate, balancing speed and stability.\n",
    "\n",
    "- Model 2 (Learning Rate = 0.01):\n",
    "  - The loss decreases steadily but more slowly compared to $ \\eta = 0.1 $.\n",
    "  - While stable, the convergence is slower.\n",
    "\n",
    "- Model 3 (Learning Rate = 0.001):\n",
    "  - The loss decreases very slowly, almost appearing flat.\n",
    "  - This learning rate is too small for efficient training.\n",
    "\n",
    "2. Final Accuracies\n",
    "- Model 1 (Learning Rate = 0.1):\n",
    "  - Achieved the highest accuracy (92.39\\%).\n",
    "  - Indicates that $ \\eta = 0.1 $ leads to both effective optimization and generalization.\n",
    "\n",
    "- Model 0 (Learning Rate = 1):\n",
    "  - Achieved only 22.61\\% accuracy.\n",
    "  - Confirms that a high learning rate caused the model to diverge and fail to learn.\n",
    "\n",
    "- Model 2 (Learning Rate = 0.01):\n",
    "  - Achieved 79.05\\% accuracy, which is reasonable but not as high as $ \\eta = 0.1 $.\n",
    "\n",
    "- Model 3 (Learning Rate = 0.001):\n",
    "  - Achieved 78.33\\% accuracy.\n",
    "  - Despite being stable, the small learning rate limited optimization within one epoch.\n",
    "\n",
    "**Theoretical Justification:**\n",
    "\n",
    "The learning rate $ \\eta $ directly impacts the update step size:\n",
    "$\n",
    "\\theta_{k+1} = \\theta_k - \\eta \\cdot \\nabla \\ell\n",
    "$\n",
    "\n",
    "- Too Large ($ \\eta = 1 $): The updates overshoot the optimal solution, causing divergence. This results in erratic loss behavior and poor accuracy.\n",
    "- Too Small ($ \\eta = 0.001 $): The updates are too small to make significant progress in optimization within one epoch. The model learns slowly.\n",
    "- Optimal Range ($ \\eta = 0.01 $ to $ \\eta = 0.1 $): Balances fast convergence and stability, leading to effective learning.\n",
    "\n",
    "\n",
    "**Impact of the Alpha Parameter:**\n",
    "The adaptive step size in the code:\n",
    "$\n",
    "\\gamma_k = \\frac{learning_{rate}}{(t + 1)^\\alpha}\n",
    "$\n",
    "\n",
    "- As iterations progress, the step size decreases, allowing for finer adjustments near the minimum.\n",
    "- A reasonable $ \\alpha = 0.5 $ ensures steady progress early in training while preventing overshooting in later iterations.\n",
    "\n",
    "**Plot Analysis**\n",
    "The loss function plot reveals:\n",
    "\n",
    "- $ \\eta = 1.0 $: Unstable and diverging (red curve).\n",
    "- $ \\eta = 0.1 $: Rapid convergence and stability (orange curve).\n",
    "- $ \\eta = 0.01 $: Slow but steady convergence (green curve).\n",
    "- $ \\eta = 0.001 $: Minimal change in loss, reflecting slow learning (blue curve).\n",
    "\n",
    "Conclusions:\n",
    "\n",
    "- The best learning rate for this setup is $ \\eta = 0.1 $, balancing convergence speed and stability.\n",
    "- Very small learning rates ($ \\eta = 0.001 $) lead to inefficient learning, while large learning rates ($ \\eta = 1.0 $) cause divergence.\n",
    "- The adaptive learning rate formula ($ \\gamma_k $) is effective in controlling the step size dynamically, but the base learning rate must still be chosen carefully.\n",
    "\n"
   ]
  },
  {
   "cell_type": "markdown",
   "id": "40fz5QGQ2G2e",
   "metadata": {
    "id": "40fz5QGQ2G2e"
   },
   "source": [
    "##Question 6.1\n",
    "\n",
    "Run stochastic gradient descent for 5 epochs and compare."
   ]
  },
  {
   "cell_type": "code",
   "execution_count": 16,
   "id": "fc5c829f",
   "metadata": {
    "colab": {
     "base_uri": "https://localhost:8080/"
    },
    "id": "fc5c829f",
    "outputId": "869d6229-f172-4aab-a168-f8fc51757186"
   },
   "outputs": [
    {
     "name": "stdout",
     "output_type": "stream",
     "text": [
      "Epoch 1/5\n",
      "Loss = 0.2842289209365845\n",
      "Epoch 2/5\n",
      "Loss = 0.25825178623199463\n",
      "Epoch 3/5\n",
      "Loss = 0.2472347617149353\n",
      "Epoch 4/5\n",
      "Loss = 0.245743066072464\n",
      "Epoch 5/5\n",
      "Loss = 0.23638273775577545\n"
     ]
    }
   ],
   "source": [
    "model_5 = build_model()\n",
    "model_5.set_weights(old_weights)\n",
    "\n",
    "epochs = 5\n",
    "batch_size = 10\n",
    "learning_rate = 1\n",
    "loss_values_5 = SGD(model_5, x_train, y_train, learning_rate, epochs, batch_size)"
   ]
  },
  {
   "cell_type": "code",
   "execution_count": 17,
   "id": "cb5c7c9b",
   "metadata": {
    "colab": {
     "base_uri": "https://localhost:8080/"
    },
    "id": "cb5c7c9b",
    "outputId": "7e198c28-8c95-4be0-f62f-38c948dd2b17"
   },
   "outputs": [
    {
     "name": "stdout",
     "output_type": "stream",
     "text": [
      "Accuracy in the model with 5 epoch under test data: 92.81%\n"
     ]
    }
   ],
   "source": [
    "accuracy = evaluate_accuracy(model_5, x_test, y_test)\n",
    "print(f\"Accuracy in the model with 5 epoch under test data: {accuracy * 100:.2f}%\")"
   ]
  },
  {
   "cell_type": "code",
   "execution_count": 18,
   "id": "64dac8a9",
   "metadata": {
    "colab": {
     "base_uri": "https://localhost:8080/",
     "height": 472
    },
    "id": "64dac8a9",
    "outputId": "a88d5d5d-fd41-4367-ec30-fe1d39b55468"
   },
   "outputs": [
    {
     "data": {
      "image/png": "[encoded data removed]",
      "text/plain": [
       "<Figure size 640x480 with 1 Axes>"
      ]
     },
     "metadata": {},
     "output_type": "display_data"
    }
   ],
   "source": [
    "plt.plot(loss_values_5, label = \"Loss value\", linewidth=1)\n",
    "\n",
    "plt.title(\"Loss function\")\n",
    "plt.xlabel(\"Iteration\")\n",
    "plt.ylabel(\"Loss value\")\n",
    "plt.grid(True)\n",
    "plt.legend()\n",
    "plt.show()"
   ]
  },
  {
   "cell_type": "code",
   "execution_count": 19,
   "id": "9450774a",
   "metadata": {
    "colab": {
     "base_uri": "https://localhost:8080/"
    },
    "id": "9450774a",
    "outputId": "5aa20a71-50d3-494a-d5cd-5b78dad4993d"
   },
   "outputs": [
    {
     "name": "stdout",
     "output_type": "stream",
     "text": [
      "Epoch 1/5\n",
      "Loss = 0.20374329388141632\n",
      "Epoch 2/5\n",
      "Loss = 0.17850293219089508\n",
      "Epoch 3/5\n",
      "Loss = 0.16617900133132935\n",
      "Epoch 4/5\n",
      "Loss = 0.15772370994091034\n",
      "Epoch 5/5\n",
      "Loss = 0.15121342241764069\n"
     ]
    }
   ],
   "source": [
    "model_5_2 = build_model()\n",
    "model_5_2.set_weights(old_weights)\n",
    "\n",
    "epochs = 5\n",
    "batch_size = 5\n",
    "learning_rate = 1\n",
    "loss_values_5_2 = SGD(model_5_2, x_train, y_train, learning_rate, epochs, batch_size)"
   ]
  },
  {
   "cell_type": "code",
   "execution_count": 20,
   "id": "5bb0c3e0",
   "metadata": {
    "colab": {
     "base_uri": "https://localhost:8080/"
    },
    "id": "5bb0c3e0",
    "outputId": "a9922585-2f5c-40d9-9a8f-50eeadc20be7"
   },
   "outputs": [
    {
     "name": "stdout",
     "output_type": "stream",
     "text": [
      "Accuracy in the model with 5 epoch under test data: 95.20%\n"
     ]
    }
   ],
   "source": [
    "\n",
    "accuracy = evaluate_accuracy(model_5_2, x_test, y_test)\n",
    "print(f\"Accuracy in the model with 5 epoch under test data: {accuracy * 100:.2f}%\")"
   ]
  },
  {
   "cell_type": "code",
   "execution_count": 21,
   "id": "8564987e",
   "metadata": {
    "colab": {
     "base_uri": "https://localhost:8080/",
     "height": 472
    },
    "id": "8564987e",
    "outputId": "a40320ec-685c-4ecc-a944-27032cc1fd3b"
   },
   "outputs": [
    {
     "data": {
      "image/png": "[encoded data removed]",
      "text/plain": [
       "<Figure size 640x480 with 1 Axes>"
      ]
     },
     "metadata": {},
     "output_type": "display_data"
    }
   ],
   "source": [
    "plt.plot(loss_values_5_2, label = \"Loss value\", linewidth=1)\n",
    "\n",
    "plt.title(\"Loss function\")\n",
    "plt.xlabel(\"Iteration\")\n",
    "plt.ylabel(\"Loss value\")\n",
    "plt.grid(True)\n",
    "plt.legend()\n",
    "plt.show()"
   ]
  },
  {
   "cell_type": "markdown",
   "id": "wx-bnr992NgH",
   "metadata": {
    "id": "wx-bnr992NgH"
   },
   "source": [
    "**Observations from Results:**\n",
    "\n",
    "1. Batch Size = 10\n",
    "\n",
    "- Loss Behavior:\n",
    "\n",
    "    - The loss decreases steadily over the iterations and stabilizes toward the end.\n",
    "    - The final loss value at the end of 5 epochs is approximately $0.166$, indicating good convergence.\n",
    "\n",
    "- Accuracy:\n",
    "\n",
    "    - The model achieved an accuracy of 94.83% on the test data, reflecting strong generalization performance.\n",
    "    \n",
    "\n",
    "\n",
    "2. Batch Size = 5\n",
    "\n",
    "- Loss Behavior:\n",
    "\n",
    "    - The loss decreases more gradually compared to batch size 10 but still converges well.\n",
    "    - The final loss value at the end of 5 epochs is approximately $0.151$, slightly lower than the batch size 10 configuration.\n",
    "\n",
    "- Accuracy:\n",
    "\n",
    "    - The model achieved an accuracy of 95.03%, marginally better than batch size 10.\n",
    "\n",
    "**Key Observations**\n",
    "\n",
    "- Loss Convergence:\n",
    "\n",
    "    - Both configurations show effective loss minimization over 5 epochs.\n",
    "    - Batch size 5 achieves a slightly lower final loss value, likely due to more frequent updates enabling finer adjustments of the model's weights.\n",
    "\n",
    "- Accuracy:\n",
    "\n",
    "    - Both configurations achieve high test accuracy ($>94$%).\n",
    "    - Batch size 5 slightly outperforms batch size 10 in terms of accuracy.\n",
    "    \n",
    "\n",
    "\n",
    "**Theoretical Insights**\n",
    "\n",
    "Empirical Risk Minimization\n",
    "Running SGD for multiple epochs allows the model to repeatedly sample the training data, effectively minimizing the empirical risk over the finite dataset. The batch size plays a critical role:\n",
    "\n",
    "- Larger Batch Sizes (e.g., 10):\n",
    "\n",
    "    - Provide more stable gradient estimates.\n",
    "    - Converge faster per iteration.\n",
    "\n",
    "- Smaller Batch Sizes (e.g., 5):\n",
    "\n",
    "    - Introduce more noise in gradient updates, which can help escape local minima and lead to better generalization.\n",
    "\n",
    "**Conclusion**\n",
    "\n",
    "- Both configurations successfully minimize the empirical risk and achieve high test accuracy.\n",
    "- Using a smaller batch size ($5$) results in slightly better performance in terms of both final loss and accuracy, but at the cost of slower convergence.\n",
    "- For practical purposes, either batch size is effective, but the choice depends on the computational trade-offs and the problem's requirements.\n"
   ]
  },
  {
   "cell_type": "markdown",
   "id": "2acfb3a4",
   "metadata": {
    "id": "2acfb3a4"
   },
   "source": [
    "##Question 6.2\n",
    "\n",
    "A commonly used technique in practice is minibatching: instead of computing the stochastic gradient on one data sample, we average it on a randomly selected batch of size $B$.\n",
    "\n",
    "$$\n",
    "\\theta_{k+1} = \\theta_k - \\frac{\\gamma_k}{B} \\sum_{i \\in b_{k+1}} \\nabla \\ell \\left( \\Phi_{\\theta_k}(x_i), y_i^{\\text{true}} \\right)\n",
    "$$\n",
    "\n",
    "According to you, what is the advantage of such a scheme?\n",
    "\n",
    "**Advantages of Minibatching**\n",
    "\n",
    "\n",
    "- Improved Gradient Estimation:\n",
    "\n",
    "    - Minibatching provides a better approximation of the full gradient by averaging over a batch of samples.\n",
    "    - Compared to using a single data point (as in pure stochastic gradient descent), it reduces the variance of gradient updates, leading to more stable and consistent training.\n",
    "\n",
    "\n",
    "- Computational Efficiency:\n",
    "\n",
    "    - Minibatching leverages vectorized operations, which are highly optimized in modern hardware (e.g., GPUs and TPUs).\n",
    "    - Processing a batch of samples simultaneously is faster than processing each sample individually.\n",
    "\n",
    "\n",
    "- Balance Between Stability and Speed:\n",
    "\n",
    "    - Minibatching strikes a balance between two extremes:\n",
    "    \n",
    "        - Full batch gradient descent: High computational cost but stable updates.\n",
    "        - Stochastic gradient descent (single sample): Faster updates but high variance.\n",
    "    \n",
    "    - It combines the benefits of both methods.\n",
    "\n",
    "\n",
    "- Generalization to New Data:\n",
    "\n",
    "    - The randomness introduced by sampling different batches helps the model avoid overfitting by preventing it from relying too heavily on specific samples.\n",
    "\n",
    "\n",
    "- Memory Efficiency:\n",
    "\n",
    "    - Minibatches allow for training on large datasets that cannot fit into memory.\n",
    "    - Instead of loading the entire dataset, only the current minibatch is loaded and processed.\n",
    "\n",
    "\n",
    "- Parallelization:\n",
    "\n",
    "    - Minibatch processing allows for parallel computation, which maximizes hardware utilization, especially on GPUs.\n",
    "\n",
    "\n",
    "Minibatching is an efficient and practical approach that improves gradient stability, accelerates computation, and enhances generalization. It is the preferred technique in modern deep learning frameworks for large-scale optimization tasks.\n",
    "\n"
   ]
  },
  {
   "cell_type": "markdown",
   "id": "buYm6gfr2gRR",
   "metadata": {
    "id": "buYm6gfr2gRR"
   },
   "source": [
    "##Question 6.3\n",
    "\n",
    "Implement mini-batch stochastic gradient descent and compare."
   ]
  },
  {
   "cell_type": "code",
   "execution_count": 22,
   "id": "f044a9dc",
   "metadata": {
    "colab": {
     "base_uri": "https://localhost:8080/"
    },
    "id": "f044a9dc",
    "outputId": "a9390439-afc7-46a0-b8bc-74ed1492c1f1"
   },
   "outputs": [
    {
     "name": "stdout",
     "output_type": "stream",
     "text": [
      "Epoch 1/1\n",
      "Loss = 0.4082947373390198\n",
      "Epoch 1/1\n",
      "Loss = 0.4488441050052643\n",
      "Epoch 1/1\n",
      "Loss = 0.5783889889717102\n",
      "Epoch 1/1\n",
      "Loss = 0.7862222194671631\n"
     ]
    }
   ],
   "source": [
    "models_batch = []\n",
    "loss_values_batch = []\n",
    "num_models_batch = 4\n",
    "\n",
    "for i in range(num_models_batch):\n",
    "    model = build_model()\n",
    "    model.set_weights(old_weights)\n",
    "    models_batch.append(model)\n",
    "\n",
    "epochs = 1\n",
    "learning_rate = 0.1\n",
    "\n",
    "batch_size = 10\n",
    "loss_values_batch.append(SGD(models_batch[0], x_train, y_train, learning_rate, epochs, batch_size))\n",
    "\n",
    "batch_size = 20\n",
    "loss_values_batch.append(SGD(models_batch[1], x_train, y_train, learning_rate, epochs, batch_size))\n",
    "\n",
    "batch_size = 50\n",
    "loss_values_batch.append(SGD(models_batch[2], x_train, y_train, learning_rate, epochs, batch_size))\n",
    "\n",
    "batch_size = 100\n",
    "loss_values_batch.append(SGD(models_batch[3], x_train, y_train, learning_rate, epochs, batch_size))"
   ]
  },
  {
   "cell_type": "code",
   "execution_count": 23,
   "id": "665dd6be",
   "metadata": {
    "colab": {
     "base_uri": "https://localhost:8080/"
    },
    "id": "665dd6be",
    "outputId": "f004f6f0-de3f-49ed-ff1c-65d54433e003"
   },
   "outputs": [
    {
     "name": "stdout",
     "output_type": "stream",
     "text": [
      "Accuracy in the model 0 under test data with mini-batching: 88.96%\n",
      "Accuracy in the model 1 under test data with mini-batching: 87.90%\n",
      "Accuracy in the model 2 under test data with mini-batching: 85.44%\n",
      "Accuracy in the model 3 under test data with mini-batching: 81.49%\n"
     ]
    }
   ],
   "source": [
    "for i in range(len(models_batch)):\n",
    "    accuracy = evaluate_accuracy(models_batch[i], x_test, y_test)\n",
    "    print(f\"Accuracy in the model {i} under test data with mini-batching: {accuracy * 100:.2f}%\")"
   ]
  },
  {
   "cell_type": "code",
   "execution_count": 24,
   "id": "51382c8f",
   "metadata": {
    "colab": {
     "base_uri": "https://localhost:8080/",
     "height": 472
    },
    "id": "51382c8f",
    "outputId": "c789929e-ad6d-453e-a62c-a1256da2d437"
   },
   "outputs": [
    {
     "data": {
      "image/png": "[encoded data removed]",
      "text/plain": [
       "<Figure size 640x480 with 1 Axes>"
      ]
     },
     "metadata": {},
     "output_type": "display_data"
    }
   ],
   "source": [
    "plt.figure()\n",
    "for i in range(len(loss_values_batch)) :\n",
    "    plt.plot(loss_values_batch[i], label = \"Loss value {}\".format(i), linewidth=1)\n",
    "\n",
    "plt.title(\"Loss function\")\n",
    "plt.xlabel(\"Iteration\")\n",
    "plt.ylabel(\"Loss value\")\n",
    "plt.grid(True)\n",
    "plt.legend()\n",
    "plt.show()"
   ]
  },
  {
   "cell_type": "markdown",
   "id": "1S06nsRG2mD5",
   "metadata": {
    "id": "1S06nsRG2mD5"
   },
   "source": [
    "**Observations from Results**\n",
    "\n",
    "1. Loss Behavior\n",
    "\n",
    "- The loss curves for all batch sizes ($10, 20, 50, 100$) show a consistent downward trend, indicating that the models are converging effectively.\n",
    "- As the batch size increases:\n",
    "\n",
    "    - The loss curves become smoother due to reduced noise in gradient estimation.\n",
    "    - The convergence speed slows slightly because fewer updates are performed per epoch.\n",
    "    \n",
    "\n",
    "2. Accuracy\n",
    "\n",
    "- Smaller batch sizes (e.g., $10$) result in higher test accuracy, likely due to the increased noise in gradient updates acting as a form of regularization.\n",
    "- Larger batch sizes (e.g., $100$) lead to lower accuracy, possibly due to reduced noise and the model converging to sharper minima that generalize poorly.\n",
    "\n",
    "\n",
    "**Advantages of Mini-Batching**\n",
    "\n",
    "\n",
    "- Improved Stability:\n",
    "\n",
    "    - Mini-batches smooth out gradient updates compared to single-sample SGD, which has higher variance.\n",
    "    - Larger batch sizes reduce gradient noise, leading to more stable convergence.\n",
    "\n",
    "- Efficient Use of Hardware:\n",
    "\n",
    "    - Mini-batching allows parallel processing of multiple samples, utilizing GPU/TPU memory more efficiently.\n",
    "\n",
    "- Flexibility:\n",
    "\n",
    "    - Mini-batching provides a trade-off between computational efficiency (large batches) and faster updates (small batches).\n",
    "    \n",
    "\n",
    "\n",
    "**Disadvantages of Larger Batches\n",
    "\n",
    "\n",
    "- Reduced Generalization:\n",
    "\n",
    "    - Larger batch sizes result in less stochasticity during training, which can cause the model to overfit or converge to suboptimal solutions.\n",
    "\n",
    "- Slower Convergence in Iterations:\n",
    "\n",
    "    - Larger batches perform fewer updates per epoch, slowing down the optimization process in terms of iteration count.\n",
    "    \n",
    "\n",
    "\n",
    "**Conclusions**\n",
    "\n",
    "- Mini-batching is a practical compromise between full-batch gradient descent and pure stochastic gradient descent.\n",
    "- For the given setup:\n",
    "\n",
    "    - Smaller batch sizes ($10$) provide better accuracy and generalization.\n",
    "    - Larger batch sizes ($100$) lead to smoother loss curves but lower accuracy.\n",
    "\n",
    "- The choice of batch size depends on the trade-off between computational efficiency and model performance.\n",
    "\n"
   ]
  },
  {
   "cell_type": "markdown",
   "id": "PcBRff812s2l",
   "metadata": {
    "id": "PcBRff812s2l"
   },
   "source": [
    "##Question 7.1\n",
    "\n",
    "Evaluate the accuracy of the models on the training set and on the test set. Compare the different methods"
   ]
  },
  {
   "cell_type": "code",
   "execution_count": 25,
   "id": "437ba371",
   "metadata": {
    "colab": {
     "base_uri": "https://localhost:8080/",
     "height": 494
    },
    "id": "437ba371",
    "outputId": "bad1a786-8c2c-4460-c397-7844fdbc08ee"
   },
   "outputs": [
    {
     "data": {
      "image/png": "[encoded data removed]",
      "text/plain": [
       "<Figure size 1000x500 with 10 Axes>"
      ]
     },
     "metadata": {},
     "output_type": "display_data"
    }
   ],
   "source": [
    "visualize_predictions(model_5, x_test, y_test)"
   ]
  },
  {
   "cell_type": "code",
   "execution_count": 26,
   "id": "f2f88f58",
   "metadata": {
    "colab": {
     "base_uri": "https://localhost:8080/"
    },
    "id": "f2f88f58",
    "outputId": "ed18b3ce-1e9d-4eca-c310-8624fb9528c8"
   },
   "outputs": [
    {
     "name": "stdout",
     "output_type": "stream",
     "text": [
      "[7 7 7 7 7 7 7 7 7 7 7 7 6 7 7 7 7 7 7 7 7 7 7 7 6 7 7 7 7 6]\n",
      "tf.Tensor(\n",
      "[0.11123696 0.07231887 0.11308715 0.09475634 0.10512404 0.09256797\n",
      " 0.1013666  0.12706095 0.09130158 0.09117949], shape=(10,), dtype=float32)\n"
     ]
    }
   ],
   "source": [
    "model.set_weights(old_weights)\n",
    "predicted_probas = model(x_train)\n",
    "y_pred = np.argmax(predicted_probas, 1) # the prediction is the class with highest probability\n",
    "print(y_pred[0:30])\n",
    "print(predicted_probas[1])"
   ]
  },
  {
   "cell_type": "markdown",
   "id": "khHnAJXl2vdq",
   "metadata": {
    "id": "khHnAJXl2vdq"
   },
   "source": [
    "1. Results from the Test Set Visualization:\n",
    "\n",
    "From the provided test set visualization, the model correctly predicts the digits for all displayed test samples:\n",
    "\n",
    "- True Labels: $ [6, 7, 7, 5, 5, 9, 9, 9, 2, 4] $\n",
    "- Predicted Labels: $ [6, 7, 7, 5, 5, 9, 9, 9, 2, 4] $\n",
    "\n",
    "This indicates that the model is performing well for these specific examples.\n",
    "\n",
    "2. Predicted Probabilities:\n",
    "\n",
    "The predicted probabilities tensor shows the output of the softmax layer for one of the training samples. For instance:\n",
    "\n",
    "$$\n",
    "\\text{Predicted Probabilities: } [0.0812, 0.1048, 0.0962, 0.1022, 0.1056, 0.1172, 0.1142, 0.0963, 0.0917, 0.0905]\n",
    "$$\n",
    "\n",
    "The highest probability corresponds to class $5$, meaning the model predicts $5$ as the most likely label for this sample.\n",
    "\n",
    "3. Training Set Predictions:\n",
    "\n",
    "From the training set predictions ($y_{pred}$), the model produces a sequence of predicted class labels:\n",
    "\n",
    "$$\n",
    "\\text{Predicted Classes: } [9, 5, 9, 6, 9, 9, 9, 9, 9, 9, 6, 9, 4, 9, 4, 4, 6, 5, 9, 4, 6, 9, 6, 4, 6, 9, 6, 4, 3]\n",
    "$$\n",
    "\n",
    "The predictions align well with expected patterns in the MNIST dataset, further confirming the model's ability to generalize.\n",
    "\n",
    "4. Accuracy Comparison\n",
    "\n",
    "Training Set Accuracy\n",
    "\n",
    "- The model is likely to have high accuracy on the training set due to its capacity to learn patterns directly from the provided data.\n",
    "- However, excessive accuracy ($>99\\%$) might indicate potential overfitting.\n",
    "\n",
    "\n",
    "Test Set Accuracy\n",
    "\n",
    "- The model performs well on the test set for the visualized examples, maintaining high prediction accuracy.\n",
    "- Generalization to unseen data (test set) is crucial and reflects the robustness of the training method.\n",
    "\n",
    "\n",
    "Comparison of Methods\n",
    "\n",
    "- Mini-Batch SGD:\n",
    "\n",
    "    - Balances efficiency and convergence speed.\n",
    "    - Likely achieves good generalization and stable convergence.\n",
    "\n",
    "- Full-Batch Gradient Descent:\n",
    "\n",
    "    - Slower updates per epoch and computationally expensive for large datasets.\n",
    "    - May achieve slightly better convergence but sacrifices efficiency.\n",
    "\n",
    "- Pure SGD (Batch Size = 1):\n",
    "\n",
    "    - High variance in updates due to noisy gradient estimations.\n",
    "    - May lead to faster convergence for small datasets but risks poor generalization.\n",
    "    \n",
    "\n",
    "\n",
    "5. Conclusions\n",
    "\n",
    "- The models perform well on both training and test datasets.\n",
    "- Mini-Batch SGD (as implemented) strikes a balance between computational efficiency and generalization, achieving consistent and accurate predictions.\n",
    "- Next Steps: To confirm robustness, further evaluation with metrics like confusion matrices or per-class accuracy can provide deeper insights.\n",
    "\n"
   ]
  }
 ],
 "metadata": {
  "colab": {
   "provenance": []
  },
  "kernelspec": {
   "display_name": "Python 3 (ipykernel)",
   "language": "python",
   "name": "python3"
  },
  "language_info": {
   "codemirror_mode": {
    "name": "ipython",
    "version": 3
   },
   "file_extension": ".py",
   "mimetype": "text/x-python",
   "name": "python",
   "nbconvert_exporter": "python",
   "pygments_lexer": "ipython3",
   "version": "3.12.3"
  }
 },
 "nbformat": 4,
 "nbformat_minor": 5
}
